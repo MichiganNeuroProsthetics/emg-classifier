{
 "cells": [
  {
   "cell_type": "code",
   "execution_count": 1,
   "metadata": {},
   "outputs": [],
   "source": [
    "import pandas as pd"
   ]
  },
  {
   "cell_type": "code",
   "execution_count": 2,
   "metadata": {},
   "outputs": [],
   "source": [
    "raw_data = pd.read_pickle('combined_data.pkl')"
   ]
  },
  {
   "cell_type": "code",
   "execution_count": 3,
   "metadata": {},
   "outputs": [],
   "source": [
    "total = raw_data['EMGValue'][0]\n",
    "avg = raw_data['EMGValue'][0]\n",
    "count = 1\n",
    "false_positive = 0\n",
    "false_negative = 0\n",
    "true_positive = 0\n",
    "true_negative = 0"
   ]
  },
  {
   "cell_type": "code",
   "execution_count": 4,
   "metadata": {},
   "outputs": [
    {
     "ename": "ValueError",
     "evalue": "The truth value of a Series is ambiguous. Use a.empty, a.bool(), a.item(), a.any() or a.all().",
     "output_type": "error",
     "traceback": [
      "\u001b[0;31m---------------------------------------------------------------------------\u001b[0m",
      "\u001b[0;31mValueError\u001b[0m                                Traceback (most recent call last)",
      "\u001b[1;32m/home/mnp/emg-logs/avg_prediction.ipynb Cell 4'\u001b[0m in \u001b[0;36m<cell line: 1>\u001b[0;34m()\u001b[0m\n\u001b[1;32m      <a href='vscode-notebook-cell://wsl%2Bubuntu/home/mnp/emg-logs/avg_prediction.ipynb#ch0000003vscode-remote?line=2'>3</a>\u001b[0m count \u001b[39m+\u001b[39m\u001b[39m=\u001b[39m \u001b[39m1\u001b[39m\n\u001b[1;32m      <a href='vscode-notebook-cell://wsl%2Bubuntu/home/mnp/emg-logs/avg_prediction.ipynb#ch0000003vscode-remote?line=3'>4</a>\u001b[0m avg \u001b[39m=\u001b[39m total \u001b[39m/\u001b[39m count\n\u001b[0;32m----> <a href='vscode-notebook-cell://wsl%2Bubuntu/home/mnp/emg-logs/avg_prediction.ipynb#ch0000003vscode-remote?line=4'>5</a>\u001b[0m \u001b[39mif\u001b[39;00m avg \u001b[39m<\u001b[39m \u001b[39mfloat\u001b[39m(row[\u001b[39m'\u001b[39m\u001b[39mEMGValue\u001b[39m\u001b[39m'\u001b[39m]):\n\u001b[1;32m      <a href='vscode-notebook-cell://wsl%2Bubuntu/home/mnp/emg-logs/avg_prediction.ipynb#ch0000003vscode-remote?line=5'>6</a>\u001b[0m     \u001b[39mif\u001b[39;00m row[\u001b[39m'\u001b[39m\u001b[39mTrueFlexState\u001b[39m\u001b[39m'\u001b[39m] \u001b[39m==\u001b[39m \u001b[39m1\u001b[39m:\n\u001b[1;32m      <a href='vscode-notebook-cell://wsl%2Bubuntu/home/mnp/emg-logs/avg_prediction.ipynb#ch0000003vscode-remote?line=6'>7</a>\u001b[0m         true_positive \u001b[39m+\u001b[39m\u001b[39m=\u001b[39m \u001b[39m1\u001b[39m\n",
      "File \u001b[0;32m/home/mnp/emg-logs/env/lib/python3.8/site-packages/pandas/core/generic.py:1535\u001b[0m, in \u001b[0;36mNDFrame.__nonzero__\u001b[0;34m(self)\u001b[0m\n\u001b[1;32m   <a href='file:///home/mnp/emg-logs/env/lib/python3.8/site-packages/pandas/core/generic.py?line=1532'>1533</a>\u001b[0m \u001b[39m@final\u001b[39m\n\u001b[1;32m   <a href='file:///home/mnp/emg-logs/env/lib/python3.8/site-packages/pandas/core/generic.py?line=1533'>1534</a>\u001b[0m \u001b[39mdef\u001b[39;00m \u001b[39m__nonzero__\u001b[39m(\u001b[39mself\u001b[39m):\n\u001b[0;32m-> <a href='file:///home/mnp/emg-logs/env/lib/python3.8/site-packages/pandas/core/generic.py?line=1534'>1535</a>\u001b[0m     \u001b[39mraise\u001b[39;00m \u001b[39mValueError\u001b[39;00m(\n\u001b[1;32m   <a href='file:///home/mnp/emg-logs/env/lib/python3.8/site-packages/pandas/core/generic.py?line=1535'>1536</a>\u001b[0m         \u001b[39mf\u001b[39m\u001b[39m\"\u001b[39m\u001b[39mThe truth value of a \u001b[39m\u001b[39m{\u001b[39;00m\u001b[39mtype\u001b[39m(\u001b[39mself\u001b[39m)\u001b[39m.\u001b[39m\u001b[39m__name__\u001b[39m\u001b[39m}\u001b[39;00m\u001b[39m is ambiguous. \u001b[39m\u001b[39m\"\u001b[39m\n\u001b[1;32m   <a href='file:///home/mnp/emg-logs/env/lib/python3.8/site-packages/pandas/core/generic.py?line=1536'>1537</a>\u001b[0m         \u001b[39m\"\u001b[39m\u001b[39mUse a.empty, a.bool(), a.item(), a.any() or a.all().\u001b[39m\u001b[39m\"\u001b[39m\n\u001b[1;32m   <a href='file:///home/mnp/emg-logs/env/lib/python3.8/site-packages/pandas/core/generic.py?line=1537'>1538</a>\u001b[0m     )\n",
      "\u001b[0;31mValueError\u001b[0m: The truth value of a Series is ambiguous. Use a.empty, a.bool(), a.item(), a.any() or a.all()."
     ]
    }
   ],
   "source": [
    "for idx, row in raw_data.iterrows():\n",
    "    total += row['EMGValue']\n",
    "    count += 1\n",
    "    avg = total / count\n",
    "    if avg < float(row['EMGValue']):\n",
    "        if row['TrueFlexState'] == 1:\n",
    "            true_positive += 1\n",
    "        else:\n",
    "            false_positive += 1\n",
    "    else:\n",
    "        if row['TrueFlexState'] == 1:\n",
    "            false_negative += 1\n",
    "        else:\n",
    "            true_negative += 1"
   ]
  },
  {
   "cell_type": "code",
   "execution_count": null,
   "metadata": {},
   "outputs": [],
   "source": [
    "print(\"True Positive: \", true_positive)\n",
    "print(\"True Negative: \", true_negative)\n",
    "print(\"False Positive: \", false_positive)\n",
    "print(\"False Negative: \", false_negative)"
   ]
  }
 ],
 "metadata": {
  "interpreter": {
   "hash": "5434ca5d5f4c02c97cfe376d40ab7ceb2d84266b83f38674307d700f40b6c2f6"
  },
  "kernelspec": {
   "display_name": "Python 3.6.8 64-bit ('env': venv)",
   "name": "python3"
  },
  "language_info": {
   "codemirror_mode": {
    "name": "ipython",
    "version": 3
   },
   "file_extension": ".py",
   "mimetype": "text/x-python",
   "name": "python",
   "nbconvert_exporter": "python",
   "pygments_lexer": "ipython3",
   "version": "3.8.10"
  },
  "orig_nbformat": 4
 },
 "nbformat": 4,
 "nbformat_minor": 2
}
