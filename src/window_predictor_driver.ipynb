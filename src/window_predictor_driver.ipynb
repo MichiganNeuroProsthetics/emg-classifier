{
 "cells": [
  {
   "cell_type": "code",
   "execution_count": null,
   "metadata": {},
   "outputs": [],
   "source": [
    "# Import your predictor\n",
    "from linear_slope_predictor import LinearSlopePredictor\n",
    "# Example: from PREDICTOR_FILE import PREDICTOR_CLASS\n",
    "\n",
    "# Add your predictor to the dictionary\n",
    "predictors = {\n",
    "    \"LinearSlopePredictor\": LinearSlopePredictor(),\n",
    "    # Example: \"PREDICTOR_CLASS\": PREDICTOR_CLASS_CONSTRUCTOR_CALL\n",
    "}"
   ]
  },
  {
   "cell_type": "code",
   "execution_count": null,
   "metadata": {},
   "outputs": [],
   "source": [
    "import pandas as pd\n",
    "\n",
    "raw_data = pd.read_csv(\"combined_data.csv\")\n",
    "\n"
   ]
  }
 ],
 "metadata": {
  "kernelspec": {
   "display_name": "Python 3.8.10 ('env': venv)",
   "language": "python",
   "name": "python3"
  },
  "language_info": {
   "name": "python",
   "version": "3.8.10"
  },
  "orig_nbformat": 4,
  "vscode": {
   "interpreter": {
    "hash": "f0551eaad037bdff703b988345323c88d1db890003c384f2d4fe39c9abb8dd4b"
   }
  }
 },
 "nbformat": 4,
 "nbformat_minor": 2
}
