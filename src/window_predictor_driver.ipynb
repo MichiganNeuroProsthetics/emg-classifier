{
 "cells": [
  {
   "cell_type": "code",
   "execution_count": 13,
   "metadata": {},
   "outputs": [
    {
     "ename": "TypeError",
     "evalue": "descriptor '__init__' requires a 'super' object but received a 'Average_window_max_predictor'",
     "output_type": "error",
     "traceback": [
      "\u001b[0;31m---------------------------------------------------------------------------\u001b[0m",
      "\u001b[0;31mTypeError\u001b[0m                                 Traceback (most recent call last)",
      "Cell \u001b[0;32mIn [13], line 9\u001b[0m\n\u001b[1;32m      3\u001b[0m \u001b[39mfrom\u001b[39;00m \u001b[39mwindow_peak_average\u001b[39;00m \u001b[39mimport\u001b[39;00m Average_window_max_predictor\n\u001b[1;32m      4\u001b[0m \u001b[39m# Example: from PREDICTOR_FILE import PREDICTOR_CLASS\u001b[39;00m\n\u001b[1;32m      5\u001b[0m \n\u001b[1;32m      6\u001b[0m \u001b[39m# Add your predictor to the dictionary\u001b[39;00m\n\u001b[1;32m      7\u001b[0m predictors \u001b[39m=\u001b[39m {\n\u001b[1;32m      8\u001b[0m     \u001b[39m\"\u001b[39m\u001b[39mLinearSlopePredictor\u001b[39m\u001b[39m\"\u001b[39m: LinearSlopePredictor(),\n\u001b[0;32m----> 9\u001b[0m     \u001b[39m\"\u001b[39m\u001b[39mAverage_window_max_predictor\u001b[39m\u001b[39m\"\u001b[39m: Average_window_max_predictor(),\n\u001b[1;32m     10\u001b[0m     \u001b[39m# Example: \"PREDICTOR_CLASS\": PREDICTOR_CLASS_CONSTRUCTOR_CALL\u001b[39;00m\n\u001b[1;32m     11\u001b[0m }\n",
      "File \u001b[0;32m~/MNP/EMG/src/window_peak_average.py:16\u001b[0m, in \u001b[0;36mAverage_window_max_predictor.__init__\u001b[0;34m(self)\u001b[0m\n\u001b[1;32m     15\u001b[0m \u001b[39mdef\u001b[39;00m \u001b[39m__init__\u001b[39m(\u001b[39mself\u001b[39m):\n\u001b[0;32m---> 16\u001b[0m     \u001b[39msuper\u001b[39;49m\u001b[39m.\u001b[39;49m\u001b[39m__init__\u001b[39;49m(\u001b[39mself\u001b[39;49m)\n\u001b[1;32m     17\u001b[0m     \u001b[39mself\u001b[39m\u001b[39m.\u001b[39mpeak \u001b[39m=\u001b[39m \u001b[39mNone\u001b[39;00m\n\u001b[1;32m     18\u001b[0m     \u001b[39mself\u001b[39m\u001b[39m.\u001b[39mpeaks_flexing_avg \u001b[39m=\u001b[39m \u001b[39m0\u001b[39m\n",
      "\u001b[0;31mTypeError\u001b[0m: descriptor '__init__' requires a 'super' object but received a 'Average_window_max_predictor'"
     ]
    }
   ],
   "source": [
    "# Import your predictor\n",
    "from linear_slope_predictor import LinearSlopePredictor\n",
    "from window_peak_average import Average_window_max_predictor\n",
    "# Example: from PREDICTOR_FILE import PREDICTOR_CLASS\n",
    "\n",
    "# Add your predictor to the dictionary\n",
    "predictors = {\n",
    "    \"LinearSlopePredictor\": LinearSlopePredictor(),\n",
    "    \"Average_window_max_predictor\": Average_window_max_predictor(),\n",
    "    # Example: \"PREDICTOR_CLASS\": PREDICTOR_CLASS_CONSTRUCTOR_CALL\n",
    "}"
   ]
  },
  {
   "cell_type": "code",
   "execution_count": null,
   "metadata": {},
   "outputs": [],
   "source": [
    "# Get raw data\n",
    "import pandas as pd\n",
    "from window_producer import raw_to_labeled_windows\n",
    "\n",
    "raw_data = None\n",
    "# If this fails, run get_raw_data.py \n",
    "raw_data = pd.read_csv(\"../combined_data.csv\")"
   ]
  },
  {
   "cell_type": "code",
   "execution_count": null,
   "metadata": {},
   "outputs": [],
   "source": [
    "# Filter raw data\n",
    "raw_data = raw_data[raw_data['class'] != 0]\n",
    "raw_data.loc[raw_data['class'] != 2] = 0\n",
    "raw_data.loc[raw_data['class'] == 2] = 1\n",
    "raw_data = raw_data.rename(columns={\n",
    "    \"class\": \"y\",\n",
    "    \"channel1\": \"x\"\n",
    "})"
   ]
  },
  {
   "cell_type": "code",
   "execution_count": null,
   "metadata": {},
   "outputs": [],
   "source": [
    "# Label subset of raw data for train/test\n",
    "train_data = raw_data.head(1000000)\n",
    "x_windows_train, y_labels_train = raw_to_labeled_windows(train_data)\n",
    "\n",
    "test_data = raw_data.tail(1000000)\n",
    "x_labels_test, y_labels_test = raw_to_labeled_windows(test_data)"
   ]
  },
  {
   "cell_type": "code",
   "execution_count": null,
   "metadata": {},
   "outputs": [],
   "source": [
    "# Train all predictors\n",
    "for p in predictors:\n",
    "    predictors[p].train(x_windows_train, y_labels_train)"
   ]
  },
  {
   "cell_type": "code",
   "execution_count": null,
   "metadata": {},
   "outputs": [
    {
     "name": "stdout",
     "output_type": "stream",
     "text": [
      "{'LinearSlopePredictor': {'tp': 4, 'fp': 4, 'tn': 1, 'fn': 0}}\n"
     ]
    }
   ],
   "source": [
    "# Test all predictors\n",
    "predictor_results = {}\n",
    "for p in predictors:\n",
    "    predictor_results[p] = {\n",
    "        'tp': 0,\n",
    "        'fp': 0,\n",
    "        'tn': 0,\n",
    "        'fn': 0,\n",
    "    }\n",
    "    for i in range(len(x_labels_test)):\n",
    "        pred = predictors[p].label_window(x_labels_test[i])\n",
    "        actual = y_labels_test[i]\n",
    "\n",
    "        if pred and actual:\n",
    "            predictor_results[p]['tp'] += 1\n",
    "        elif pred and not actual:\n",
    "            predictor_results[p]['fp'] += 1\n",
    "        elif not pred and not actual:\n",
    "            predictor_results[p]['tn'] += 1\n",
    "        elif not pred and actual:\n",
    "            predictor_results[p]['fn'] += 1\n",
    "print(predictor_results)"
   ]
  }
 ],
 "metadata": {
  "kernelspec": {
   "display_name": "Python 3.8.10 ('env': venv)",
   "language": "python",
   "name": "python3"
  },
  "language_info": {
   "codemirror_mode": {
    "name": "ipython",
    "version": 3
   },
   "file_extension": ".py",
   "mimetype": "text/x-python",
   "name": "python",
   "nbconvert_exporter": "python",
   "pygments_lexer": "ipython3",
   "version": "3.8.10"
  },
  "orig_nbformat": 4,
  "vscode": {
   "interpreter": {
    "hash": "b0987df8ea41bcd3c96e47d84a00a1a44cdc13941e9bc3b12e3ef8be73ae6363"
   }
  }
 },
 "nbformat": 4,
 "nbformat_minor": 2
}
