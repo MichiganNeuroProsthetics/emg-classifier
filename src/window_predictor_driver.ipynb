{
 "cells": [
  {
   "cell_type": "code",
   "execution_count": 22,
   "metadata": {},
   "outputs": [],
   "source": [
    "# Import your predictor\n",
    "from linear_slope_predictor import LinearSlopePredictor\n",
    "from window_peak_average import window_peak_val\n",
    "# Example: from PREDICTOR_FILE import PREDICTOR_CLASS\n",
    "\n",
    "# Add your predictor to the dictionary\n",
    "predictors = {\n",
    "    \"LinearSlopePredictor\": LinearSlopePredictor(),\n",
    "    \"window_peak_val\": window_peak_val(),\n",
    "    # Example: \"PREDICTOR_CLASS\": PREDICTOR_CLASS_CONSTRUCTOR_CALL\n",
    "}"
   ]
  },
  {
   "cell_type": "code",
   "execution_count": 26,
   "metadata": {},
   "outputs": [],
   "source": [
    "# Get raw data\n",
    "import pandas as pd\n",
    "from window_producer import raw_to_labeled_windows\n",
    "\n",
    "raw_data = None\n",
    "# If this fails, run get_raw_data.py \n",
    "raw_data = pd.read_csv(\"../combined_data.csv\")"
   ]
  },
  {
   "cell_type": "code",
   "execution_count": 24,
   "metadata": {},
   "outputs": [],
   "source": [
    "# Filter raw data\n",
    "\n",
    "# raw_data = raw_data[raw_data['class'] != 0]\n",
    "raw_data.loc[raw_data['class'] != 2] = 0\n",
    "raw_data.loc[raw_data['class'] == 2] = 1\n",
    "raw_data = raw_data.rename(columns={\n",
    "    \"class\": \"y\",\n",
    "    \"channel4\": \"x\"\n",
    "})"
   ]
  },
  {
   "cell_type": "code",
   "execution_count": 27,
   "metadata": {},
   "outputs": [
    {
     "ename": "TypeError",
     "evalue": "raw_to_labeled_windows() got an unexpected keyword argument 'min_window_size'",
     "output_type": "error",
     "traceback": [
      "\u001b[0;31m---------------------------------------------------------------------------\u001b[0m",
      "\u001b[0;31mTypeError\u001b[0m                                 Traceback (most recent call last)",
      "Cell \u001b[0;32mIn [27], line 3\u001b[0m\n\u001b[1;32m      1\u001b[0m \u001b[39m# Label subset of raw data for train/test\u001b[39;00m\n\u001b[1;32m      2\u001b[0m train_data \u001b[39m=\u001b[39m raw_data\u001b[39m.\u001b[39mhead(\u001b[39m1000000\u001b[39m)\n\u001b[0;32m----> 3\u001b[0m x_windows_train, y_labels_train \u001b[39m=\u001b[39m raw_to_labeled_windows(train_data, min_window_size\u001b[39m=\u001b[39;49m\u001b[39m200\u001b[39;49m, padding\u001b[39m=\u001b[39;49m\u001b[39m0\u001b[39;49m)\n\u001b[1;32m      5\u001b[0m test_data \u001b[39m=\u001b[39m raw_data\u001b[39m.\u001b[39mtail(\u001b[39m1000000\u001b[39m)\n\u001b[1;32m      6\u001b[0m x_labels_test, y_labels_test \u001b[39m=\u001b[39m raw_to_labeled_windows(test_data, min_window_size\u001b[39m=\u001b[39m\u001b[39m200\u001b[39m, padding\u001b[39m=\u001b[39m\u001b[39m0\u001b[39m)\n",
      "\u001b[0;31mTypeError\u001b[0m: raw_to_labeled_windows() got an unexpected keyword argument 'min_window_size'"
     ]
    }
   ],
   "source": [
    "# Label subset of raw data for train/test\n",
    "train_data = raw_data.head(1000000)\n",
    "x_windows_train, y_labels_train = raw_to_labeled_windows(train_data, min_window_size=200, padding=0)\n",
    "\n",
    "test_data = raw_data.tail(1000000)\n",
    "x_labels_test, y_labels_test = raw_to_labeled_windows(test_data, min_window_size=200, padding=0)"
   ]
  },
  {
   "cell_type": "code",
   "execution_count": null,
   "metadata": {},
   "outputs": [],
   "source": [
    "# print(x_windows_train)\n",
    "# print(y_labels_train)\n",
    "\n",
    "# print(x_labels_test)\n",
    "# print(y_labels_test)"
   ]
  },
  {
   "cell_type": "code",
   "execution_count": null,
   "metadata": {},
   "outputs": [],
   "source": [
    "# Train all predictors\n",
    "for p in predictors:\n",
    "    predictors[p].train(x_windows_train, y_labels_train)"
   ]
  },
  {
   "cell_type": "code",
   "execution_count": null,
   "metadata": {},
   "outputs": [
    {
     "name": "stdout",
     "output_type": "stream",
     "text": [
      "{'LinearSlopePredictor': {'tp': 0, 'fp': 0, 'tn': 5, 'fn': 4}}\n"
     ]
    }
   ],
   "source": [
    "# Test all predictors\n",
    "predictor_results = {}\n",
    "for p in predictors:\n",
    "    predictor_results[p] = {\n",
    "        'tp': 0,\n",
    "        'fp': 0,\n",
    "        'tn': 0,\n",
    "        'fn': 0,\n",
    "    }\n",
    "    for i in range(len(x_labels_test)):\n",
    "        pred = predictors[p].label_window(x_labels_test[i])\n",
    "        actual = y_labels_test[i]\n",
    "\n",
    "        if pred and actual:\n",
    "            predictor_results[p]['tp'] += 1\n",
    "        elif pred and not actual:\n",
    "            predictor_results[p]['fp'] += 1\n",
    "        elif not pred and not actual:\n",
    "            predictor_results[p]['tn'] += 1\n",
    "        elif not pred and actual:\n",
    "            predictor_results[p]['fn'] += 1\n",
    "print(predictor_results)"
   ]
  }
 ],
 "metadata": {
  "kernelspec": {
   "display_name": "Python 3.8.10 ('env': venv)",
   "language": "python",
   "name": "python3"
  },
  "language_info": {
   "codemirror_mode": {
    "name": "ipython",
    "version": 3
   },
   "file_extension": ".py",
   "mimetype": "text/x-python",
   "name": "python",
   "nbconvert_exporter": "python",
   "pygments_lexer": "ipython3",
   "version": "3.8.10"
  },
  "orig_nbformat": 4,
  "vscode": {
   "interpreter": {
    "hash": "f0551eaad037bdff703b988345323c88d1db890003c384f2d4fe39c9abb8dd4b"
   }
  }
 },
 "nbformat": 4,
 "nbformat_minor": 2
}
