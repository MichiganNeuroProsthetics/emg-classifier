{
 "cells": [
  {
   "cell_type": "code",
   "execution_count": 2,
   "metadata": {},
   "outputs": [],
   "source": [
    "import pandas as pd\n",
    "from sklearn.model_selection import train_test_split\n",
    "from sklearn.ensemble import ExtraTreesClassifier\n",
    "from sklearn.metrics import ConfusionMatrixDisplay, confusion_matrix\n",
    "import matplotlib.pyplot as plt\n",
    "import os"
   ]
  },
  {
   "cell_type": "code",
   "execution_count": 3,
   "metadata": {},
   "outputs": [],
   "source": [
    "# Get list of file paths\n",
    "\n",
    "fileList = []\n",
    "personNum = \"\"\n",
    "for i in range (1, 37):\n",
    "    if i < 10:\n",
    "        personNum = \"0\" + str(i)\n",
    "    else:\n",
    "        personNum = str(i)\n",
    "    smallList = os.listdir(\"EMG_data_for_gestures-master/\" + personNum)\n",
    "    for i in range(2):\n",
    "        smallList[i] = \"EMG_data_for_gestures-master/\" + personNum + \"/\" + smallList[i]\n",
    "    fileList.extend(smallList)"
   ]
  },
  {
   "cell_type": "code",
   "execution_count": 4,
   "metadata": {},
   "outputs": [
    {
     "name": "stdout",
     "output_type": "stream",
     "text": [
      "   time  channel1  channel2  channel3  channel4  channel5  channel6  channel7  \\\n",
      "0     1   0.00001  -0.00002  -0.00001  -0.00003   0.00000  -0.00001   0.00000   \n",
      "1     5   0.00001  -0.00002  -0.00001  -0.00003   0.00000  -0.00001   0.00000   \n",
      "2     6  -0.00001   0.00001   0.00002   0.00000   0.00001  -0.00002  -0.00001   \n",
      "3     7  -0.00001   0.00001   0.00002   0.00000   0.00001  -0.00002  -0.00001   \n",
      "4     8  -0.00001   0.00001   0.00002   0.00000   0.00001  -0.00002  -0.00001   \n",
      "5     9  -0.00001   0.00001   0.00002   0.00000   0.00001  -0.00002  -0.00001   \n",
      "6    10  -0.00001   0.00001   0.00002   0.00000   0.00001  -0.00002  -0.00001   \n",
      "7    11  -0.00001   0.00001   0.00002   0.00000   0.00001  -0.00002  -0.00001   \n",
      "8    12  -0.00001   0.00001   0.00002   0.00000   0.00001  -0.00002  -0.00001   \n",
      "9    13  -0.00001   0.00001   0.00002   0.00000   0.00001  -0.00002  -0.00001   \n",
      "\n",
      "   channel8  class  \n",
      "0  -0.00001    0.0  \n",
      "1  -0.00001    0.0  \n",
      "2   0.00001    0.0  \n",
      "3   0.00001    0.0  \n",
      "4   0.00001    0.0  \n",
      "5   0.00001    0.0  \n",
      "6   0.00001    0.0  \n",
      "7   0.00001    0.0  \n",
      "8   0.00001    0.0  \n",
      "9   0.00001    0.0  \n"
     ]
    }
   ],
   "source": [
    "# Get data from files into dataframe\n",
    "\n",
    "df_list = [pd.read_table(file) for file in fileList]\n",
    "\n",
    "raw_df = pd.concat(df_list)\n",
    "print(raw_df.head(10))"
   ]
  },
  {
   "cell_type": "code",
   "execution_count": 5,
   "metadata": {},
   "outputs": [],
   "source": [
    "\"\"\"\n",
    "0 - unmarked data,\n",
    "1 - hand at rest, \n",
    "2 - hand clenched in a fist, \n",
    "3 - wrist flexion,\n",
    "4 – wrist extension,\n",
    "5 – radial deviations,\n",
    "6 - ulnar deviations,\n",
    "7 - extended palm (the gesture was not performed by all subjects).\n",
    "\"\"\"\n",
    "# Removing unmarked data\n",
    "marked_df = raw_df[raw_df['class'] != 0]\n",
    "\n",
    "# Removing rows with invalid values\n",
    "filtered_df = marked_df.dropna()\n",
    "\n",
    "# Get class list\n",
    "class_list = filtered_df['class'].tolist()\n",
    "\n",
    "# Get data list of lists\n",
    "data_list = filtered_df.drop(columns=['time', 'class'], axis=1).values.tolist()"
   ]
  },
  {
   "cell_type": "code",
   "execution_count": 6,
   "metadata": {},
   "outputs": [],
   "source": [
    "# Split testing and training data\n",
    "data_train, data_test, class_train, class_test = train_test_split(data_list, class_list, test_size=0.75, random_state=0)"
   ]
  },
  {
   "cell_type": "code",
   "execution_count": 7,
   "metadata": {},
   "outputs": [
    {
     "ename": "NameError",
     "evalue": "name 'cohen_kappa_score' is not defined",
     "output_type": "error",
     "traceback": [
      "\u001b[1;31m---------------------------------------------------------------------------\u001b[0m",
      "\u001b[1;31mNameError\u001b[0m                                 Traceback (most recent call last)",
      "\u001b[1;32m~\\AppData\\Local\\Temp/ipykernel_22508/1219859155.py\u001b[0m in \u001b[0;36m<module>\u001b[1;34m\u001b[0m\n\u001b[0;32m      6\u001b[0m \u001b[1;33m\u001b[0m\u001b[0m\n\u001b[0;32m      7\u001b[0m \u001b[1;31m# Print cohen kappa score\u001b[0m\u001b[1;33m\u001b[0m\u001b[1;33m\u001b[0m\u001b[0m\n\u001b[1;32m----> 8\u001b[1;33m \u001b[0mprint\u001b[0m\u001b[1;33m(\u001b[0m\u001b[1;34m\"Cohen Kappa Score: \"\u001b[0m\u001b[1;33m,\u001b[0m \u001b[0mcohen_kappa_score\u001b[0m\u001b[1;33m(\u001b[0m\u001b[0mdata_test\u001b[0m\u001b[1;33m,\u001b[0m \u001b[0mclass_prediction\u001b[0m\u001b[1;33m)\u001b[0m\u001b[1;33m)\u001b[0m\u001b[1;33m\u001b[0m\u001b[1;33m\u001b[0m\u001b[0m\n\u001b[0m\u001b[0;32m      9\u001b[0m \u001b[1;33m\u001b[0m\u001b[0m\n\u001b[0;32m     10\u001b[0m \u001b[1;31m# Check results\u001b[0m\u001b[1;33m\u001b[0m\u001b[1;33m\u001b[0m\u001b[0m\n",
      "\u001b[1;31mNameError\u001b[0m: name 'cohen_kappa_score' is not defined"
     ]
    }
   ],
   "source": [
    "# Train with extra trees classifier\n",
    "model = ExtraTreesClassifier()\n",
    "model.fit(data_train, class_train)\n",
    "# Test model\n",
    "class_prediction = model.predict(data_test)\n",
    "\n",
    "# Print cohen kappa score\n",
    "print(\"Cohen Kappa Score: \", cohen_kappa_score(data_test, class_prediction))\n",
    "\n",
    "# Check results\n",
    "fig, ax = plt.subplots(figsize=(8, 5))\n",
    "cmp = ConfusionMatrixDisplay(\n",
    "    confusion_matrix(class_test, class_prediction),\n",
    "    display_labels=[\"hand at rest\", \"clenched\", \"wrist flexion\", \"wrist extension\", \"radial deviation\", \"ulnar deviation\"],\n",
    ")\n",
    "\n",
    "cmp.plot(ax=ax)\n",
    "plt.show()"
   ]
  }
 ],
 "metadata": {
  "interpreter": {
   "hash": "e4d2875432a05b195a42c6ed51c1bd7da1f8704c408d0d8db99f4224850a1cf1"
  },
  "kernelspec": {
   "display_name": "Python 3.9.7 64-bit (windows store)",
   "language": "python",
   "name": "python3"
  },
  "language_info": {
   "codemirror_mode": {
    "name": "ipython",
    "version": 3
   },
   "file_extension": ".py",
   "mimetype": "text/x-python",
   "name": "python",
   "nbconvert_exporter": "python",
   "pygments_lexer": "ipython3",
   "version": "3.9.8"
  },
  "orig_nbformat": 4
 },
 "nbformat": 4,
 "nbformat_minor": 2
}
