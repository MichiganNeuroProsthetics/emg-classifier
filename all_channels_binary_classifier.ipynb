{
 "cells": [
  {
   "cell_type": "code",
   "execution_count": 30,
   "metadata": {},
   "outputs": [],
   "source": [
    "import pandas as pd\n",
    "from sklearn.model_selection import train_test_split\n",
    "from sklearn.linear_model import LogisticRegression\n",
    "from sklearn.ensemble import ExtraTreesClassifier\n",
    "from sklearn.metrics import ConfusionMatrixDisplay, confusion_matrix"
   ]
  },
  {
   "cell_type": "code",
   "execution_count": 31,
   "metadata": {},
   "outputs": [],
   "source": [
    "# Read data from files\n",
    "raw_df = pd.read_csv(\"EMG_data_for_gestures-master/01/1_raw_data_13-12_22.03.16.txt\", sep='\\t')"
   ]
  },
  {
   "cell_type": "code",
   "execution_count": 32,
   "metadata": {},
   "outputs": [],
   "source": [
    "\"\"\"\n",
    "0 - unmarked data,\n",
    "1 - hand at rest, \n",
    "2 - hand clenched in a fist, \n",
    "3 - wrist flexion,\n",
    "4 – wrist extension,\n",
    "5 – radial deviations,\n",
    "6 - ulnar deviations,\n",
    "7 - extended palm (the gesture was not performed by all subjects).\n",
    "\"\"\"\n",
    "# Getting just two classes (hand at rest and hand clenched in fist) from data\n",
    "rest_and_clenched_df = raw_df\n",
    "rest_and_clenched_df = rest_and_clenched_df.loc[(rest_and_clenched_df['class'] == 2) | (rest_and_clenched_df['class'] == 1)]\n",
    "\n",
    "# Get class list\n",
    "class_list = rest_and_clenched_df['class'].tolist()\n",
    "# Get data list of lists\n",
    "data_list = rest_and_clenched_df.drop(columns=['time', 'class'], axis=1).values.tolist()"
   ]
  },
  {
   "cell_type": "code",
   "execution_count": 33,
   "metadata": {},
   "outputs": [],
   "source": [
    "# Split testing and training data\n",
    "data_train, data_test, class_train, class_test = train_test_split(data_list, class_list, test_size=0.25, random_state=0)"
   ]
  },
  {
   "cell_type": "code",
   "execution_count": 36,
   "metadata": {},
   "outputs": [
    {
     "name": "stdout",
     "output_type": "stream",
     "text": [
      "[1 1 1 ... 1 1 1]\n",
      "True Positive(TP)  =  0\n",
      "False Positive(FP) =  0\n",
      "True Negative(TN)  =  948\n",
      "False Negative(FN) =  879\n",
      "Accuracy of the binary classification = 0.519\n"
     ]
    }
   ],
   "source": [
    "# Train with logistic regression\n",
    "logistic_model = ExtraTreesClassifier()\n",
    "logistic_model.fit(data_train, class_train)\n",
    "# Test model\n",
    "logistic_prediction = logistic_model.predict(data_test)\n",
    "print(logistic_prediction)\n",
    "# Check results\n",
    "logistic_cm = confusion_matrix(class_test, logistic_prediction)\n",
    "TN, FP, FN, TP = logistic_cm.ravel()\n",
    "\n",
    "print('True Positive(TP)  = ', TP)\n",
    "print('False Positive(FP) = ', FP)\n",
    "print('True Negative(TN)  = ', TN)\n",
    "print('False Negative(FN) = ', FN)\n",
    "\n",
    "logistic_accuracy =  (TP+TN) /(TP+FP+TN+FN)\n",
    "\n",
    "print('Accuracy of the binary classification = {:0.3f}'.format(logistic_accuracy))\n"
   ]
  }
 ],
 "metadata": {
  "kernelspec": {
   "display_name": "Python 3",
   "language": "python",
   "name": "python3"
  },
  "language_info": {
   "codemirror_mode": {
    "name": "ipython",
    "version": 3
   },
   "file_extension": ".py",
   "mimetype": "text/x-python",
   "name": "python",
   "nbconvert_exporter": "python",
   "pygments_lexer": "ipython3",
   "version": "3.9.7"
  }
 },
 "nbformat": 4,
 "nbformat_minor": 4
}
