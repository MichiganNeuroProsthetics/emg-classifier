{
 "cells": [
  {
   "cell_type": "code",
   "execution_count": 1,
   "metadata": {},
   "outputs": [],
   "source": [
    "# Accuracy of 1.000\n",
    "import pandas as pd\n",
    "from sklearn.model_selection import train_test_split\n",
    "from sklearn.svm import SVC\n",
    "from sklearn.metrics import ConfusionMatrixDisplay, confusion_matrix\n",
    "from get_raw_data import get_ring_dataset"
   ]
  },
  {
   "cell_type": "code",
   "execution_count": 2,
   "metadata": {},
   "outputs": [],
   "source": [
    "# Read data from files, see get_raw_data.py for implementation\n",
    "raw_df = get_ring_dataset()"
   ]
  },
  {
   "cell_type": "code",
   "execution_count": 7,
   "metadata": {},
   "outputs": [],
   "source": [
    "\"\"\"\n",
    "0 - unmarked data,\n",
    "1 - hand at rest, \n",
    "2 - hand clenched in a fist, \n",
    "3 - wrist flexion,\n",
    "4 – wrist extension,\n",
    "5 – radial deviations,\n",
    "6 - ulnar deviations,\n",
    "7 - extended palm (the gesture was not performed by all subjects).\n",
    "\"\"\"\n",
    "\n",
    "# Getting just two classes (hand at rest and hand clenched in fist) from data\n",
    "# Below step is unecessary if we simply use the raw_df directly\n",
    "# rest_and_clenched_df = raw_df\n",
    "\n",
    "\n",
    "# We are interested in only the two hand positions mentioned above,\n",
    "# so we set rest_and_clenched_df to include only data with the relevant classes\n",
    "rest_and_clenched_df = raw_df.loc[(raw_df['class'] == 2) | (raw_df['class'] == 1)]\n",
    "\n",
    "\n",
    "# Get class list from rest_and_clenched and store it\n",
    "# class_list is the Y variable, what we're predicting based on data set\n",
    "class_list = rest_and_clenched_df['class'].tolist()\n",
    "\n",
    "# Get data list: created by removing time and class columns from modified dataFrame\n",
    "# then convert dataframe to list of lists \n",
    "# data_list is the X variable, what we're using to make the class prediction\n",
    "data_list = rest_and_clenched_df.drop(columns=['time', 'class'], axis=1).values.tolist()"
   ]
  },
  {
   "cell_type": "code",
   "execution_count": 17,
   "metadata": {},
   "outputs": [],
   "source": [
    "# Split testing and training data\n",
    "# We gave the train_test_split data_list and class_list as input\n",
    "# The function return a train set and test set for said lists \n",
    "# ...that we will use to train and assess the data\n",
    "data_train, data_test, class_train, class_test = train_test_split(data_list, class_list, test_size=0.25, random_state=0)"
   ]
  },
  {
   "cell_type": "code",
   "execution_count": 16,
   "metadata": {},
   "outputs": [
    {
     "name": "stdout",
     "output_type": "stream",
     "text": [
      "True Positive(TP)  =  2698\n",
      "False Positive(FP) =  5\n",
      "True Negative(TN)  =  2892\n",
      "False Negative(FN) =  23\n",
      "Accuracy of the binary classification = 0.995\n"
     ]
    }
   ],
   "source": [
    "# Train with SVM classifier\n",
    "# What does C = 1.0 mean? \n",
    "# Any particular reason we're using rbf kernel besides default?\n",
    "model = SVC(C = 1.0, kernel = 'rbf')\n",
    "\n",
    "# Training the model using .fit() function\n",
    "model.fit(data_train, class_train)\n",
    "\n",
    "# Test model, use .predict()\n",
    "prediction = model.predict(data_test)\n",
    "\n",
    "#print(prediction) <- is this really useful?\n",
    "# Check results\n",
    "# This is achieved by comparing the prediction (from running model on data_test)\n",
    "# ...with the class_test (what classification data should be) by creating a \n",
    "# ...confusion matrix. Use ravel to view/set values for true/false positive/negatives\n",
    "cm = confusion_matrix(class_test, prediction)\n",
    "TN, FP, FN, TP = cm.ravel()\n",
    "print('True Positive(TP)  = ', TP)\n",
    "print('False Positive(FP) = ', FP)\n",
    "print('True Negative(TN)  = ', TN)\n",
    "print('False Negative(FN) = ', FN)\n",
    "accuracy =  (TP+TN) /(TP+FP+TN+FN)\n",
    "print('Accuracy of the binary classification = {:0.3f}'.format(accuracy))\n"
   ]
  }
 ],
 "metadata": {
  "kernelspec": {
   "display_name": "Python 3.8.10 ('env': venv)",
   "language": "python",
   "name": "python3"
  },
  "language_info": {
   "codemirror_mode": {
    "name": "ipython",
    "version": 3
   },
   "file_extension": ".py",
   "mimetype": "text/x-python",
   "name": "python",
   "nbconvert_exporter": "python",
   "pygments_lexer": "ipython3",
   "version": "3.8.10"
  },
  "vscode": {
   "interpreter": {
    "hash": "b0987df8ea41bcd3c96e47d84a00a1a44cdc13941e9bc3b12e3ef8be73ae6363"
   }
  }
 },
 "nbformat": 4,
 "nbformat_minor": 2
}
